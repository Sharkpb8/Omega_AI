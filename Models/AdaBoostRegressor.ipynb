{
 "cells": [
  {
   "cell_type": "markdown",
   "metadata": {},
   "source": [
    "Loading data from csv"
   ]
  },
  {
   "cell_type": "code",
   "execution_count": null,
   "metadata": {},
   "outputs": [],
   "source": [
    "import pandas as pd\n",
    "data = pd.read_csv('../data/cleanedHouses.csv', sep=',')"
   ]
  },
  {
   "cell_type": "markdown",
   "metadata": {},
   "source": [
    "training model and finding the best mse and combination"
   ]
  },
  {
   "cell_type": "code",
   "execution_count": null,
   "metadata": {},
   "outputs": [],
   "source": [
    "from sklearn.model_selection import train_test_split\n",
    "import itertools\n",
    "from sklearn.metrics import mean_absolute_error, mean_squared_error\n",
    "from sklearn.ensemble import AdaBoostRegressor\n",
    "from sklearn.tree import DecisionTreeRegressor\n",
    "from sklearn.preprocessing import StandardScaler\n",
    "\n",
    "input_features = [\"lat\", \"lon\", \"usable_area\", \"land_area\",\"garage\",\"new\",\"furnished\",\"cellar\",\"parkingLots\",\"reconstructed\"]\n",
    "target_feature = \"price\"\n",
    "bestRmse = None\n",
    "bestCombination = None\n",
    "bestModel = None\n",
    "scaler = StandardScaler()\n",
    "\n",
    "for r in range(1, len(input_features) + 1):\n",
    "    for combo in itertools.combinations(input_features, r):\n",
    "        X_train, X_test, y_train, y_test = train_test_split(data[list(combo)], data[target_feature], test_size=0.1)\n",
    "        X_train = scaler.fit_transform(X_train)\n",
    "        X_test = scaler.fit_transform(X_test)\n",
    "        base_model = DecisionTreeRegressor(max_depth=3)\n",
    "        model = AdaBoostRegressor(estimator=base_model, n_estimators=50)\n",
    "        model.fit(X_train, y_train)\n",
    "        y_pred = model.predict(X_test)\n",
    "        mae = mean_absolute_error(y_test, y_pred)\n",
    "        mse = mean_squared_error(y_test, y_pred)\n",
    "        if(bestRmse is None or (mse**(1/2))<bestRmse):\n",
    "            bestRmse = mse**(1/2)\n",
    "            bestCombination = list(combo)\n",
    "            bestModel = model\n",
    "\n",
    "print(bestRmse)\n",
    "print(bestCombination)"
   ]
  },
  {
   "cell_type": "markdown",
   "metadata": {},
   "source": [
    "Saving model to dat for later use"
   ]
  },
  {
   "cell_type": "code",
   "execution_count": null,
   "metadata": {},
   "outputs": [],
   "source": [
    "import pickle\n",
    "import json\n",
    "\n",
    "with open(\"../SavedModels/AdaBoostRegressor.dat\",\"wb\") as f:\n",
    "    pickle.dump(bestModel,f)\n",
    "\n",
    "with open(\"../SavedModels/AdaBoostRegressor.json\",\"w\") as f:\n",
    "    json.dump(bestCombination,f)"
   ]
  }
 ],
 "metadata": {
  "kernelspec": {
   "display_name": "venv",
   "language": "python",
   "name": "python3"
  },
  "language_info": {
   "codemirror_mode": {
    "name": "ipython",
    "version": 3
   },
   "file_extension": ".py",
   "mimetype": "text/x-python",
   "name": "python",
   "nbconvert_exporter": "python",
   "pygments_lexer": "ipython3",
   "version": "3.12.6"
  }
 },
 "nbformat": 4,
 "nbformat_minor": 2
}
