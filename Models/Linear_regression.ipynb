{
 "cells": [
  {
   "cell_type": "markdown",
   "metadata": {},
   "source": [
    "Loading data from csv"
   ]
  },
  {
   "cell_type": "code",
   "execution_count": null,
   "metadata": {},
   "outputs": [],
   "source": [
    "import pandas as pd\n",
    "data = pd.read_csv('../data/cleanedHouses.csv', sep=',')"
   ]
  },
  {
   "cell_type": "markdown",
   "metadata": {},
   "source": [
    "training model and finding the best mse and combination"
   ]
  },
  {
   "cell_type": "code",
   "execution_count": null,
   "metadata": {},
   "outputs": [],
   "source": [
    "from sklearn.model_selection import train_test_split\n",
    "import itertools\n",
    "from sklearn.metrics import mean_absolute_error, mean_squared_error\n",
    "from sklearn.linear_model import LinearRegression\n",
    "\n",
    "input_features = [\"lat\", \"lon\", \"usable_area\", \"land_area\",\"garage\",\"new\",\"furnished\",\"cellar\",\"parkingLots\",\"reconstructed\"]\n",
    "target_feature = \"price\"\n",
    "bestMse = None\n",
    "bestCombination = None\n",
    "\n",
    "for r in range(1, len(input_features) + 1):\n",
    "        for combo in itertools.combinations(input_features, r):\n",
    "            X_train, X_test, y_train, y_test = train_test_split(data[list(combo)], data[target_feature], test_size=0.1)\n",
    "            model = LinearRegression(n_jobs=-1)\n",
    "            model.fit(X_train, y_train)\n",
    "            y_pred = model.predict(X_test)\n",
    "            mae = mean_absolute_error(y_test, y_pred)\n",
    "            mse = mean_squared_error(y_test, y_pred)\n",
    "            if(bestMse is None or mse<bestMse):\n",
    "                bestMse = mse\n",
    "                bestCombination = combo\n",
    "\n",
    "print(bestMse)\n",
    "print(bestCombination)"
   ]
  },
  {
   "cell_type": "markdown",
   "metadata": {},
   "source": [
    "Saving model to dat for later use"
   ]
  },
  {
   "cell_type": "code",
   "execution_count": null,
   "metadata": {},
   "outputs": [],
   "source": [
    "import pickle\n",
    "\n",
    "with open(\"../SavedModels/LinearRegression.dat\",\"wb\") as f:\n",
    "    pickle.dump(model,f)"
   ]
  },
  {
   "cell_type": "code",
   "execution_count": null,
   "metadata": {},
   "outputs": [],
   "source": [
    "import matplotlib.pyplot as plt\n",
    "import seaborn as sns\n",
    "\n",
    "# Assuming 'data' is a pandas DataFrame containing the input features and target\n",
    "sns.pairplot(data[input_features + [target_feature]], kind=\"scatter\")\n",
    "plt.suptitle(\"Scatter Plot of House Attributes and Prices\", y=1.02)\n",
    "plt.show()\n"
   ]
  },
  {
   "cell_type": "code",
   "execution_count": null,
   "metadata": {},
   "outputs": [],
   "source": [
    "import matplotlib.pyplot as plt\n",
    "\n",
    "# Iterate over each input feature and create a scatter plot with price on y-axis\n",
    "for feature in input_features:\n",
    "    plt.figure(figsize=(8, 6))\n",
    "    plt.scatter(data[feature], data[target_feature], alpha=0.6)\n",
    "    plt.title(f\"{feature} vs {target_feature}\")\n",
    "    plt.xlabel(feature)\n",
    "    plt.ylabel(target_feature)\n",
    "    plt.show()\n"
   ]
  }
 ],
 "metadata": {
  "kernelspec": {
   "display_name": "venv",
   "language": "python",
   "name": "python3"
  },
  "language_info": {
   "codemirror_mode": {
    "name": "ipython",
    "version": 3
   },
   "file_extension": ".py",
   "mimetype": "text/x-python",
   "name": "python",
   "nbconvert_exporter": "python",
   "pygments_lexer": "ipython3",
   "version": "3.12.6"
  }
 },
 "nbformat": 4,
 "nbformat_minor": 2
}
