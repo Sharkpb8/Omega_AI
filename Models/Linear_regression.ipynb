{
 "cells": [
  {
   "cell_type": "markdown",
   "metadata": {},
   "source": [
    "Loading data from csv"
   ]
  },
  {
   "cell_type": "code",
   "execution_count": null,
   "metadata": {},
   "outputs": [],
   "source": [
    "import pandas as pd\n",
    "data = pd.read_csv('../data/cleanedHouses.csv', sep=',')"
   ]
  },
  {
   "cell_type": "markdown",
   "metadata": {},
   "source": [
    "training model and finding the best mse and combination"
   ]
  },
  {
   "cell_type": "code",
   "execution_count": null,
   "metadata": {},
   "outputs": [],
   "source": [
    "from sklearn.model_selection import train_test_split\n",
    "import itertools\n",
    "from sklearn.metrics import mean_absolute_error, mean_squared_error\n",
    "from sklearn.linear_model import LinearRegression\n",
    "\n",
    "input_features = [\"lat\", \"lon\", \"usable_area\", \"land_area\",\"garage\",\"new\",\"furnished\",\"cellar\",\"parkingLots\",\"reconstructed\"]\n",
    "target_feature = \"price\"\n",
    "bestMse = None\n",
    "bestCombination = None\n",
    "bestModel = None\n",
    "\n",
    "for r in range(1, len(input_features) + 1):\n",
    "    for combo in itertools.combinations(input_features, r):\n",
    "        X_train, X_test, y_train, y_test = train_test_split(data[list(combo)], data[target_feature], test_size=0.1)\n",
    "        model = LinearRegression(n_jobs=-1)\n",
    "        model.fit(X_train, y_train)\n",
    "        y_pred = model.predict(X_test)\n",
    "        mae = mean_absolute_error(y_test, y_pred)\n",
    "        mse = mean_squared_error(y_test, y_pred)\n",
    "        if(bestMse is None or mse<bestMse):\n",
    "            bestMse = mse\n",
    "            bestCombination = combo\n",
    "            bestModel = model\n",
    "\n",
    "print(bestMse)\n",
    "print(bestCombination)"
   ]
  },
  {
   "cell_type": "markdown",
   "metadata": {},
   "source": [
    "Custom test space"
   ]
  },
  {
   "cell_type": "code",
   "execution_count": null,
   "metadata": {},
   "outputs": [],
   "source": [
    "custom_data = pd.DataFrame([[49.975463,14.298315,196,1,0,1,1]],columns=['lat', 'lon', 'usable_area', 'garage', 'new', 'cellar', 'parkingLots'])\n",
    "pred = bestModel.predict(custom_data)\n",
    "print(pred)"
   ]
  },
  {
   "cell_type": "markdown",
   "metadata": {},
   "source": [
    "Saving model to dat for later use"
   ]
  },
  {
   "cell_type": "code",
   "execution_count": null,
   "metadata": {},
   "outputs": [],
   "source": [
    "import pickle\n",
    "\n",
    "with open(\"../SavedModels/LinearRegression.dat\",\"wb\") as f:\n",
    "    pickle.dump(bestModel,f)"
   ]
  }
 ],
 "metadata": {
  "kernelspec": {
   "display_name": "venv",
   "language": "python",
   "name": "python3"
  },
  "language_info": {
   "codemirror_mode": {
    "name": "ipython",
    "version": 3
   },
   "file_extension": ".py",
   "mimetype": "text/x-python",
   "name": "python",
   "nbconvert_exporter": "python",
   "pygments_lexer": "ipython3",
   "version": "3.12.6"
  }
 },
 "nbformat": 4,
 "nbformat_minor": 2
}
