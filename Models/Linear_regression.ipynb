{
 "cells": [
  {
   "cell_type": "code",
   "execution_count": null,
   "metadata": {},
   "outputs": [],
   "source": [
    "input_features = ['lat', 'lon', 'land_area',  'usable_area',\"garage\",\"new\",\"furnished\",\"cellar\",\"parkingLots\",\"reconstructed\"]\n",
    "target_feature = 'price'"
   ]
  }
 ],
 "metadata": {
  "language_info": {
   "name": "python"
  }
 },
 "nbformat": 4,
 "nbformat_minor": 2
}
