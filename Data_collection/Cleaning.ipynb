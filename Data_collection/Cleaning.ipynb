{
 "cells": [
  {
   "cell_type": "markdown",
   "metadata": {},
   "source": [
    "Deleting duplicates if any"
   ]
  },
  {
   "cell_type": "code",
   "execution_count": null,
   "metadata": {},
   "outputs": [],
   "source": [
    "import pandas as pd\n",
    "\n",
    "df = pd.read_csv('../data/houses.csv', sep=',')\n",
    "\n",
    "before = len(df)\n",
    "\n",
    "df.drop_duplicates(inplace=True)\n",
    "\n",
    "print(f\"Bylo smazáno {before-len(df)} duplicitních záznamů\")"
   ]
  },
  {
   "cell_type": "markdown",
   "metadata": {},
   "source": [
    "Clean houses with price 0"
   ]
  },
  {
   "cell_type": "code",
   "execution_count": null,
   "metadata": {},
   "outputs": [],
   "source": [
    "before = len(df)\n",
    "df.drop(df[df['price'] == 0].index, inplace=True)\n",
    "print(f\"Bylo smazáno {before-len(df)} záznamů s hodnotou ceny domu 0\")"
   ]
  },
  {
   "cell_type": "markdown",
   "metadata": {},
   "source": [
    "Land and usable are remove spaces"
   ]
  },
  {
   "cell_type": "code",
   "execution_count": null,
   "metadata": {},
   "outputs": [],
   "source": [
    "print(\"Předchozí datový typy\")\n",
    "print(df.dtypes)\n",
    "\n",
    "for i in df.index:\n",
    "    df.loc[i, \"land_area\"] = df.loc[i, \"land_area\"].replace(\" \",\"\")\n",
    "    df.loc[i, \"usable_area\"] = df.loc[i, \"usable_area\"].replace(\" \",\"\")\n",
    "\n",
    "df[\"land_area\"] = df[\"land_area\"].astype(int)\n",
    "df[\"usable_area\"] = df[\"usable_area\"].astype(int)\n",
    "\n",
    "\n",
    "print()\n",
    "print(\"Aktuální datový typy\")\n",
    "print(df.dtypes)"
   ]
  },
  {
   "cell_type": "markdown",
   "metadata": {},
   "source": [
    "Removing useless attributes"
   ]
  },
  {
   "cell_type": "code",
   "execution_count": null,
   "metadata": {},
   "outputs": [],
   "source": [
    "df.drop(inplace=True,columns=[\"balcon\",\"terrace\"])"
   ]
  },
  {
   "cell_type": "markdown",
   "metadata": {},
   "source": [
    "Saving the cleaned data back to CSV without pandas index"
   ]
  },
  {
   "cell_type": "code",
   "execution_count": null,
   "metadata": {},
   "outputs": [],
   "source": [
    "df.to_csv(\"../data/cleanedHouses.csv\",index=False)"
   ]
  }
 ],
 "metadata": {
  "kernelspec": {
   "display_name": "venv",
   "language": "python",
   "name": "python3"
  },
  "language_info": {
   "codemirror_mode": {
    "name": "ipython",
    "version": 3
   },
   "file_extension": ".py",
   "mimetype": "text/x-python",
   "name": "python",
   "nbconvert_exporter": "python",
   "pygments_lexer": "ipython3",
   "version": "3.12.6"
  }
 },
 "nbformat": 4,
 "nbformat_minor": 2
}
