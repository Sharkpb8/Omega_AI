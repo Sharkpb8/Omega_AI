{
 "cells": [
  {
   "cell_type": "markdown",
   "metadata": {},
   "source": [
    "Deleting duplicates if any"
   ]
  },
  {
   "cell_type": "code",
   "execution_count": null,
   "metadata": {},
   "outputs": [],
   "source": [
    "import pandas as pd\n",
    "\n",
    "df = pd.read_csv('../data/houses.csv', sep=',')\n",
    "\n",
    "before = len(df)\n",
    "\n",
    "df.drop_duplicates(inplace=True)\n",
    "\n",
    "print(f\"Bylo smazáno {before-len(df)} duplicitních záznamů\")"
   ]
  },
  {
   "cell_type": "markdown",
   "metadata": {},
   "source": [
    "Clean houses with price 0"
   ]
  },
  {
   "cell_type": "code",
   "execution_count": null,
   "metadata": {},
   "outputs": [],
   "source": [
    "before = len(df)\n",
    "df.drop(df[df['price'] == 0].index, inplace=True)\n",
    "print(f\"Bylo smazáno {before-len(df)} záznamů s hodnotou ceny domu 0\")"
   ]
  },
  {
   "cell_type": "markdown",
   "metadata": {},
   "source": [
    "Delete empty rows"
   ]
  },
  {
   "cell_type": "code",
   "execution_count": null,
   "metadata": {},
   "outputs": [],
   "source": [
    "before = len(df)\n",
    "df.dropna(inplace=True)\n",
    "print(f\"Bylo smazáno {before-len(df)} záznamů bez hodnot\")"
   ]
  },
  {
   "cell_type": "markdown",
   "metadata": {},
   "source": [
    "After importing all data to database and using:\n",
    "```SQL\n",
    "SELECT garage, COUNT(*) FROM houses GROUP BY garage;\n",
    "SELECT new, COUNT(*) FROM houses GROUP BY new;\n",
    "SELECT furnished, COUNT(*) FROM houses GROUP BY furnished;\n",
    "SELECT cellar, COUNT(*) FROM houses GROUP BY cellar;\n",
    "SELECT parkingLots, COUNT(*) FROM houses GROUP BY parkingLots;\n",
    "SELECT reconstructed, COUNT(*) FROM houses GROUP BY reconstructed;\n",
    "SELECT balcon, COUNT(*) FROM houses GROUP BY balcon;\n",
    "SELECT terrace, COUNT(*) FROM houses GROUP BY terrace;\n",
    "\n",
    "```\n",
    "\n",
    "This is the output:\n",
    "- Garage\n",
    "  - 0 - 11235\n",
    "  - 1 - 6925\n",
    "- New\n",
    "  - 0 - 15732\n",
    "  - 1 - 2428\n",
    "- Furnished\n",
    "  - 0 - 15854\n",
    "  - 1 - 2306\n",
    "- Cellar\n",
    "  - 0 - 11485\n",
    "  - 1 - 6675\n",
    "- ParkingLots\n",
    "  - 0 - 8658\n",
    "  - 1 - 9502\n",
    "- Reconstructed\n",
    "  - 0 - 17055\n",
    "  - 1 - 1105\n",
    "- Balcon\n",
    "  - 0 - 18153\n",
    "  - 1 - 7\n",
    "- Terrace\n",
    "  - 0 - 18149\n",
    "  - 1 - 11\n",
    "\n",
    "This means that Balcon and Terrace are useless as they are almoust never there."
   ]
  },
  {
   "cell_type": "code",
   "execution_count": null,
   "metadata": {},
   "outputs": [],
   "source": [
    "df.drop(inplace=True,columns=[\"balcon\",\"terrace\"])"
   ]
  },
  {
   "cell_type": "markdown",
   "metadata": {},
   "source": [
    "Visualization of data too see where data are too large for the model to work properly"
   ]
  },
  {
   "cell_type": "code",
   "execution_count": null,
   "metadata": {},
   "outputs": [],
   "source": [
    "import matplotlib.pyplot as plt\n",
    "import seaborn as sns\n",
    "\n",
    "input_features = [\"lat\", \"lon\", \"usable_area\", \"land_area\",\"garage\",\"new\",\"furnished\",\"cellar\",\"parkingLots\",\"reconstructed\"]\n",
    "target_feature = \"price\"\n",
    "\n",
    "sns.pairplot(df[input_features + [target_feature]], kind=\"scatter\")\n",
    "plt.suptitle(\"Scatter Plot of House Attributes and Prices\", y=1.01)\n",
    "plt.show()\n"
   ]
  },
  {
   "cell_type": "code",
   "execution_count": null,
   "metadata": {},
   "outputs": [],
   "source": [
    "import matplotlib.pyplot as plt\n",
    "\n",
    "input_features = [\"lat\", \"lon\", \"usable_area\", \"land_area\",\"garage\",\"new\",\"furnished\",\"cellar\",\"parkingLots\",\"reconstructed\",\"region\",\"district\",\"room_count\",\"condition\"]\n",
    "target_feature = \"price\"\n",
    "\n",
    "for feature in input_features:\n",
    "    plt.figure(figsize=(8, 6))\n",
    "    plt.scatter(df[feature], df[target_feature], alpha=0.5)\n",
    "    plt.title(f\"{feature} vs {target_feature}\")\n",
    "    plt.xlabel(feature)\n",
    "    plt.ylabel(target_feature)\n",
    "    plt.show()"
   ]
  },
  {
   "cell_type": "markdown",
   "metadata": {},
   "source": [
    "Removing houses with out of range data"
   ]
  },
  {
   "cell_type": "code",
   "execution_count": null,
   "metadata": {},
   "outputs": [],
   "source": [
    "df.drop(df[df['price'] > 70_000_000].index, inplace=True)\n",
    "df.drop(df[df['land_area'] >8_000].index, inplace=True)\n",
    "df.drop(df[df['usable_area'] >2_000].index, inplace=True)"
   ]
  },
  {
   "cell_type": "markdown",
   "metadata": {},
   "source": [
    "Saving the cleaned data back to CSV without pandas index"
   ]
  },
  {
   "cell_type": "code",
   "execution_count": 12,
   "metadata": {},
   "outputs": [],
   "source": [
    "df.to_csv(\"../data/cleanedHouses.csv\",index=False)"
   ]
  }
 ],
 "metadata": {
  "kernelspec": {
   "display_name": "venv",
   "language": "python",
   "name": "python3"
  },
  "language_info": {
   "codemirror_mode": {
    "name": "ipython",
    "version": 3
   },
   "file_extension": ".py",
   "mimetype": "text/x-python",
   "name": "python",
   "nbconvert_exporter": "python",
   "pygments_lexer": "ipython3",
   "version": "3.12.6"
  }
 },
 "nbformat": 4,
 "nbformat_minor": 2
}
