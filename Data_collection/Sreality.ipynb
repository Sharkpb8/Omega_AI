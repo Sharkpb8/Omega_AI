{
 "cells": [
  {
   "cell_type": "markdown",
   "metadata": {},
   "source": [
    "Fetching data about houses from Sreality api"
   ]
  },
  {
   "cell_type": "code",
   "execution_count": null,
   "metadata": {},
   "outputs": [],
   "source": [
    "import requests\n",
    "import csv\n",
    "import json\n",
    "import re\n",
    "import os\n",
    "\n",
    "houses = []\n",
    "total_pages = 454\n",
    "\n",
    "for page in range(1, total_pages + 1):\n",
    "    url = f\"https://www.sreality.cz/api/cs/v2/estates?category_main_cb=2&category_type_cb=1&per_page=40&page={page}\"\n",
    "    response = requests.get(url)\n",
    "    \n",
    "    if response.status_code == 200:\n",
    "        data = response.json()\n",
    "        houses_page = data.get('_embedded', {}).get('estates', [])\n",
    "        houses.append(houses_page)\n",
    "        print(f\"Načtena stránka {page}\")\n",
    "    else:\n",
    "        print(f\"Chyba při načítání stránky {page} (status code: {response.status_code})\")\n",
    "\n",
    "print(f\"Celkem načteno {len(houses)} domů.\")"
   ]
  },
  {
   "cell_type": "markdown",
   "metadata": {},
   "source": [
    "Save all data to json file"
   ]
  },
  {
   "cell_type": "code",
   "execution_count": null,
   "metadata": {},
   "outputs": [],
   "source": [
    "if(not os.path.exists(\"./data\")):\n",
    "    os.makedirs(\"../data\")\n",
    "\n",
    "with open('../data/houses.json', 'w') as f:\n",
    "    json.dump(houses, f, indent=4)"
   ]
  },
  {
   "cell_type": "markdown",
   "metadata": {},
   "source": [
    "Extract only needed data from json"
   ]
  },
  {
   "cell_type": "code",
   "execution_count": null,
   "metadata": {},
   "outputs": [],
   "source": [
    "cleaned_houses = []\n",
    "\n",
    "for i in houses:\n",
    "    for house in i:\n",
    "        price = house[\"price\"]\n",
    "        lat = house[\"gps\"][\"lat\"]\n",
    "        lon = house[\"gps\"][\"lon\"]\n",
    "        name = house[\"name\"].replace(\"\\u00a0\", \" \")\n",
    "        numbers = re.findall(r'\\d+(?:\\s\\d+)*', name)\n",
    "        garage = 1 if \"garage\" in house[\"labelsAll\"][0] else 0\n",
    "        new = 1 if \"new_building\" in house[\"labelsAll\"][0] else 0\n",
    "        furnished = 1 if \"furnished\" in house[\"labelsAll\"][0] else 0\n",
    "        cellar = 1 if \"cellar\" in house[\"labelsAll\"][0] else 0\n",
    "        parkingLots = 1 if \"parking_lots\" in house[\"labelsAll\"][0] else 0\n",
    "        reconstructed = 1 if \"after_reconstruction\" in house[\"labelsAll\"][0] else 0\n",
    "        balcon = 1 if \"balcony\" in house[\"labelsAll\"][0] else 0\n",
    "        terrace = 1 if \"terrace\" in house[\"labelsAll\"][0] else 0\n",
    "\n",
    "\n",
    "        cleaned_houses.append([price,lat,lon,numbers[0],numbers[1],garage, new, furnished, cellar, parkingLots, reconstructed, balcon, terrace])\n",
    "        print(len(cleaned_houses))\n",
    "\n",
    "print(\"Domy jsou vyčištěny\")"
   ]
  },
  {
   "cell_type": "markdown",
   "metadata": {},
   "source": [
    "Save all extracted data to csv file"
   ]
  },
  {
   "cell_type": "code",
   "execution_count": null,
   "metadata": {},
   "outputs": [],
   "source": [
    "with open(\"../data/houses.csv\",\"w\",newline='') as f:\n",
    "        csvwriter = csv.writer(f)\n",
    "        rows = [\"price\", \"lat\", \"lon\", \"land_area\",\"usable_area\", \"garage\", \"new\", \"furnished\", \"cellar\", \"parkingLots\", \"reconstructed\", \"balcon\", \"terrace\"]\n",
    "        csvwriter.writerow(rows)\n",
    "\n",
    "for i in cleaned_houses:\n",
    "     with open(\"../data/houses.csv\",\"a\",newline='') as f:\n",
    "        csvwriter = csv.writer(f)\n",
    "        csvwriter.writerow(i)"
   ]
  },
  {
   "cell_type": "markdown",
   "metadata": {},
   "source": [
    "After importing all data to database and using:\n",
    "```SQL\n",
    "SELECT garage, COUNT(*) FROM houses GROUP BY garage;\n",
    "SELECT new, COUNT(*) FROM houses GROUP BY new;\n",
    "SELECT furnished, COUNT(*) FROM houses GROUP BY furnished;\n",
    "SELECT cellar, COUNT(*) FROM houses GROUP BY cellar;\n",
    "SELECT parkingLots, COUNT(*) FROM houses GROUP BY parkingLots;\n",
    "SELECT reconstructed, COUNT(*) FROM houses GROUP BY reconstructed;\n",
    "SELECT balcon, COUNT(*) FROM houses GROUP BY balcon;\n",
    "SELECT terrace, COUNT(*) FROM houses GROUP BY terrace;\n",
    "\n",
    "```\n",
    "\n",
    "This is the output:\n",
    "- Garage\n",
    "  - 0 - 11272\n",
    "  - 1 - 6888\n",
    "- New\n",
    "  - 0 - 15732\n",
    "  - 1 - 2428\n",
    "- Furnished\n",
    "  - 0 - 15842\n",
    "  - 1 - 2318\n",
    "- Cellar\n",
    "  - 0 - 11513\n",
    "  - 1 - 6647\n",
    "- ParkingLots\n",
    "  - 0 - 8697\n",
    "  - 1 - 9463\n",
    "- Reconstructed\n",
    "  - 0 - 17086\n",
    "  - 1 - 1074\n",
    "- Balcon\n",
    "  - 0 - 18153\n",
    "  - 1 - 7\n",
    "- Terrace\n",
    "  - 0 - 18147\n",
    "  - 1 - 13\n",
    "\n",
    "This means tahta Balcon and Terrace are useless as they are almoust never there."
   ]
  }
 ],
 "metadata": {
  "kernelspec": {
   "display_name": "venv",
   "language": "python",
   "name": "python3"
  },
  "language_info": {
   "codemirror_mode": {
    "name": "ipython",
    "version": 3
   },
   "file_extension": ".py",
   "mimetype": "text/x-python",
   "name": "python",
   "nbconvert_exporter": "python",
   "pygments_lexer": "ipython3",
   "version": "3.12.6"
  }
 },
 "nbformat": 4,
 "nbformat_minor": 2
}
