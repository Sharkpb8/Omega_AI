{
 "cells": [
  {
   "cell_type": "markdown",
   "metadata": {},
   "source": [
    "Fetching data about houses from Sreality api"
   ]
  },
  {
   "cell_type": "code",
   "execution_count": null,
   "metadata": {},
   "outputs": [],
   "source": [
    "import requests\n",
    "import csv\n",
    "import json\n",
    "\n",
    "houses = []\n",
    "total_pages = 454\n",
    "\n",
    "for page in range(1, total_pages + 1):\n",
    "    url = f\"https://www.sreality.cz/api/cs/v2/estates?category_main_cb=2&category_type_cb=1&per_page=40&page={page}\"\n",
    "    response = requests.get(url)\n",
    "    \n",
    "    if response.status_code == 200:\n",
    "        data = response.json()\n",
    "        houses_page = data.get('_embedded', {}).get('estates', [])\n",
    "        houses.append(houses_page)\n",
    "        print(f\"Načtena stránka {page}\")\n",
    "    else:\n",
    "        print(f\"Chyba při načítání stránky {page} (status code: {response.status_code})\")\n",
    "\n",
    "print(f\"Celkem načteno {len(houses)} domů.\")"
   ]
  },
  {
   "cell_type": "markdown",
   "metadata": {},
   "source": [
    "Save all data to json file"
   ]
  },
  {
   "cell_type": "code",
   "execution_count": null,
   "metadata": {},
   "outputs": [],
   "source": [
    "import os\n",
    "\n",
    "if(not os.path.exists(\"../data\")):\n",
    "    os.makedirs(\"../data\")\n",
    "\n",
    "with open('../data/houses.json', 'w') as f:\n",
    "    json.dump(houses, f, indent=4)"
   ]
  },
  {
   "cell_type": "markdown",
   "metadata": {},
   "source": [
    "Extract only needed data from json"
   ]
  },
  {
   "cell_type": "code",
   "execution_count": null,
   "metadata": {},
   "outputs": [],
   "source": [
    "import asyncio\n",
    "import aiohttp\n",
    "\n",
    "async def fetch_house(session, house,count):\n",
    "    hash_id = house[\"hash_id\"]\n",
    "    while True:\n",
    "        try:\n",
    "            async with session.get(f\"https://www.sreality.cz/api/cs/v2/estates/{hash_id}\") as response:\n",
    "                data = await response.json()\n",
    "                if response.status in [404,410]:\n",
    "                    return[\"\" for i in range(17)]\n",
    "                data = data[\"recommendations_data\"]\n",
    "                print(count)\n",
    "                return [\n",
    "                    house[\"price\"],\n",
    "                    house[\"gps\"][\"lat\"],\n",
    "                    house[\"gps\"][\"lon\"],\n",
    "                    data[\"usable_area\"],\n",
    "                    data[\"estate_area\"],\n",
    "                    1 if \"garage\" in house[\"labelsAll\"][0] else 0,\n",
    "                    1 if \"new_building\" in house[\"labelsAll\"][0] else 0,\n",
    "                    1 if \"furnished\" in house[\"labelsAll\"][0] else 0,\n",
    "                    1 if \"cellar\" in house[\"labelsAll\"][0] else 0,\n",
    "                    1 if \"parking_lots\" in house[\"labelsAll\"][0] else 0,\n",
    "                    1 if \"after_reconstruction\" in house[\"labelsAll\"][0] else 0,\n",
    "                    1 if \"balcony\" in house[\"labelsAll\"][0] else 0,\n",
    "                    1 if \"terrace\" in house[\"labelsAll\"][0] else 0,\n",
    "                    data[\"locality_region_id\"],\n",
    "                    data[\"locality_district_id\"],\n",
    "                    data[\"room_count_cb\"],\n",
    "                    data[\"building_condition\"]\n",
    "                ]\n",
    "        except Exception:\n",
    "            await asyncio.sleep(1)\n",
    "            pass\n",
    "\n",
    "async def main():\n",
    "    tasks = []\n",
    "    count = 0\n",
    "    async with aiohttp.ClientSession() as session:\n",
    "        for house_list in houses:\n",
    "            for house in house_list:\n",
    "                count +=1\n",
    "                tasks.append(fetch_house(session, house,count))\n",
    "\n",
    "        results = await asyncio.gather(*tasks)\n",
    "\n",
    "    print(f\"Počet vyčištěných domů: {len(results)}\")\n",
    "    print(\"Domy jsou vyčištěny\")\n",
    "    return results\n",
    "\n",
    "cleaned_houses = await main()\n"
   ]
  },
  {
   "cell_type": "markdown",
   "metadata": {},
   "source": [
    "Save all extracted data to csv file"
   ]
  },
  {
   "cell_type": "code",
   "execution_count": null,
   "metadata": {},
   "outputs": [],
   "source": [
    "with open(\"../data/houses.csv\",\"w\",newline='') as f:\n",
    "        csvwriter = csv.writer(f)\n",
    "        rows = [\"price\", \"lat\", \"lon\",\"usable_area\", \"land_area\", \"garage\", \"new\", \"furnished\", \"cellar\", \"parkingLots\", \"reconstructed\", \"balcon\", \"terrace\",\"region\",\"district\",\"room_count\",\"condition\"]\n",
    "        csvwriter.writerow(rows)\n",
    "\n",
    "for i in cleaned_houses:\n",
    "     with open(\"../data/houses.csv\",\"a\",newline='') as f:\n",
    "        csvwriter = csv.writer(f)\n",
    "        csvwriter.writerow(i)"
   ]
  }
 ],
 "metadata": {
  "kernelspec": {
   "display_name": "venv",
   "language": "python",
   "name": "python3"
  },
  "language_info": {
   "codemirror_mode": {
    "name": "ipython",
    "version": 3
   },
   "file_extension": ".py",
   "mimetype": "text/x-python",
   "name": "python",
   "nbconvert_exporter": "python",
   "pygments_lexer": "ipython3",
   "version": "3.12.6"
  }
 },
 "nbformat": 4,
 "nbformat_minor": 2
}
