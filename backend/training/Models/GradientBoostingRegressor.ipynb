{
 "cells": [
  {
   "cell_type": "markdown",
   "metadata": {},
   "source": [
    "Loading data from csv"
   ]
  },
  {
   "cell_type": "code",
   "execution_count": null,
   "metadata": {},
   "outputs": [],
   "source": [
    "import pandas as pd\n",
    "data = pd.read_csv('../data/cleanedHouses.csv', sep=',')"
   ]
  },
  {
   "cell_type": "markdown",
   "metadata": {},
   "source": [
    "training model and saving the results to find best combination later"
   ]
  },
  {
   "cell_type": "code",
   "execution_count": null,
   "metadata": {},
   "outputs": [],
   "source": [
    "from sklearn.model_selection import train_test_split\n",
    "import itertools\n",
    "from sklearn.metrics import mean_absolute_error, mean_squared_error\n",
    "from sklearn.ensemble import GradientBoostingRegressor\n",
    "\n",
    "input_features = [\"usable_area\",\"land_area\",\"garage\",\"parkingLots\",\"region\",\"district\",\"room_count\",\"condition\"]\n",
    "target_feature = \"price\"\n",
    "\n",
    "combinationsScores = {}\n",
    "for loop in range(1,10+1):\n",
    "    for r in range(5, len(input_features) + 1):\n",
    "        for combo in itertools.combinations(input_features, r):\n",
    "            X_train, X_test, y_train, y_test = train_test_split(data[list(combo)], data[target_feature], test_size=0.25)\n",
    "            model = GradientBoostingRegressor(n_estimators=100)\n",
    "            model.fit(X_train, y_train)\n",
    "            y_pred = model.predict(X_test)\n",
    "            mae = mean_absolute_error(y_test, y_pred)\n",
    "            mse = mean_squared_error(y_test, y_pred)\n",
    "            if combo not in combinationsScores.keys():\n",
    "                combinationsScores[combo] = []\n",
    "            combinationsScores[combo].append(mse**(1/2))\n",
    "            print(f\"{loop} | Done: {combo}\")\n"
   ]
  },
  {
   "cell_type": "markdown",
   "metadata": {},
   "source": [
    "Finding the best model by attributes avg"
   ]
  },
  {
   "cell_type": "code",
   "execution_count": null,
   "metadata": {},
   "outputs": [],
   "source": [
    "import json\n",
    "\n",
    "bestAvg = None\n",
    "bestCombination = None\n",
    "\n",
    "tempcombo = {}\n",
    "\n",
    "for key,val in combinationsScores.items():\n",
    "    idk = str(key)\n",
    "    tempcombo[idk] = val\n",
    "\n",
    "with open(\"../SavedModels/GradientBoostingRegressorData.json\",\"w\") as f:\n",
    "    json.dump(tempcombo,f,indent=4)\n",
    "\n",
    "for key,val in combinationsScores.items():\n",
    "    score = 0\n",
    "    for i in val:\n",
    "        score += i\n",
    "    avg = score/len(val)\n",
    "    if (bestAvg is None or avg < bestAvg):\n",
    "        bestAvg = avg\n",
    "        bestCombination = key\n",
    "\n",
    "print(\"Best\")\n",
    "print(f\"Combination: {bestCombination}\")\n",
    "print(f\"Average: {bestAvg}\")"
   ]
  },
  {
   "cell_type": "markdown",
   "metadata": {},
   "source": [
    "Training the model based on the best attr"
   ]
  },
  {
   "cell_type": "code",
   "execution_count": null,
   "metadata": {},
   "outputs": [],
   "source": [
    "from sklearn.model_selection import train_test_split\n",
    "from sklearn.metrics import mean_absolute_error, mean_squared_error\n",
    "from sklearn.linear_model import LinearRegression\n",
    "\n",
    "target_feature = \"price\"\n",
    "\n",
    "X_train, X_test, y_train, y_test = train_test_split(data[list(bestCombination)], data[target_feature], test_size=0.1)\n",
    "model = LinearRegression(n_jobs=-1)\n",
    "model.fit(X_train, y_train)\n",
    "y_pred = model.predict(X_test)\n",
    "mae = mean_absolute_error(y_test, y_pred)\n",
    "mse = mean_squared_error(y_test, y_pred)"
   ]
  },
  {
   "cell_type": "markdown",
   "metadata": {},
   "source": [
    "Saving model to dat for later use"
   ]
  },
  {
   "cell_type": "code",
   "execution_count": null,
   "metadata": {},
   "outputs": [],
   "source": [
    "import pickle\n",
    "import json\n",
    "\n",
    "with open(\"../SavedModels/GradientBoostingRegressor.dat\",\"wb\") as f:\n",
    "    pickle.dump(model,f)\n",
    "\n",
    "with open(\"../SavedModels/GradientBoostingRegressor.json\",\"w\") as f:\n",
    "    json.dump(bestCombination,f)"
   ]
  }
 ],
 "metadata": {
  "kernelspec": {
   "display_name": "venv",
   "language": "python",
   "name": "python3"
  },
  "language_info": {
   "codemirror_mode": {
    "name": "ipython",
    "version": 3
   },
   "file_extension": ".py",
   "mimetype": "text/x-python",
   "name": "python",
   "nbconvert_exporter": "python",
   "pygments_lexer": "ipython3",
   "version": "3.12.6"
  }
 },
 "nbformat": 4,
 "nbformat_minor": 2
}
